{
  "nbformat": 4,
  "nbformat_minor": 0,
  "metadata": {
    "colab": {
      "provenance": []
    },
    "kernelspec": {
      "name": "python3",
      "display_name": "Python 3"
    },
    "language_info": {
      "name": "python"
    }
  },
  "cells": [
    {
      "cell_type": "markdown",
      "source": [
        "# Downloading subset of the DeepLesion dataset\n",
        "### CS5330\n",
        "### by Talal Siddiqui and Zeyu Wang\n",
        "### December 10th, 2024\n",
        "\n",
        "This notebook downloads data from the DeepLesion dataset's repository. We only download a subset of the data because Google Colab cannot store all 220 GB of CT scans.\n",
        "\n",
        "The dataset is located at https://nihcc.app.box.com/v/DeepLesion/folder/50715173939\n",
        "\n",
        "This subset is meant for the YOLOv5n model."
      ],
      "metadata": {
        "id": "kbEnvQGuQ2Oy"
      }
    },
    {
      "cell_type": "code",
      "execution_count": null,
      "metadata": {
        "colab": {
          "base_uri": "https://localhost:8080/"
        },
        "id": "2I047MSshzoa",
        "outputId": "0810d52e-0838-4e82-d3e9-7eea7038757a"
      },
      "outputs": [
        {
          "output_type": "stream",
          "name": "stdout",
          "text": [
            "downloading Images_png_01.zip ...\n",
            "downloading Images_png_02.zip ...\n",
            "downloading Images_png_03.zip ...\n",
            "downloading Images_png_04.zip ...\n",
            "downloading Images_png_05.zip ...\n",
            "downloading Images_png_06.zip ...\n",
            "downloading Images_png_07.zip ...\n",
            "downloading Images_png_08.zip ...\n",
            "downloading Images_png_09.zip ...\n",
            "downloading Images_png_10.zip ...\n",
            "Download complete. Please check the MD5 checksums\n"
          ]
        }
      ],
      "source": [
        "import urllib.request\n",
        "import os\n",
        "\n",
        "data_download_dir = \"raw_data\"\n",
        "\n",
        "if not os.path.exists(data_download_dir):\n",
        "  os.mkdir(data_download_dir)\n",
        "\n",
        "# Small subset of links from the dataset\n",
        "data_urls = ['https://nihcc.box.com/shared/static/sp5y2k799v4x1x77f7w1aqp26uyfq7qz.zip',\n",
        "    'https://nihcc.box.com/shared/static/l9e1ys5e48qq8s409ua3uv6uwuko0y5c.zip',\n",
        "    'https://nihcc.box.com/shared/static/48jotosvbrw0rlke4u88tzadmabcp72r.zip',\n",
        "    'https://nihcc.box.com/shared/static/xa3rjr6nzej6yfgzj9z6hf97ljpq1wkm.zip',\n",
        "    'https://nihcc.box.com/shared/static/58ix4lxaadjxvjzq4am5ehpzhdvzl7os.zip',\n",
        "    'https://nihcc.box.com/shared/static/cfouy1al16n0linxqt504n3macomhdj8.zip',\n",
        "    'https://nihcc.box.com/shared/static/z84jjstqfrhhlr7jikwsvcdutl7jnk78.zip',\n",
        "    'https://nihcc.box.com/shared/static/6viu9bqirhjjz34xhd1nttcqurez8654.zip',\n",
        "    'https://nihcc.box.com/shared/static/9ii2xb6z7869khz9xxrwcx1393a05610.zip',\n",
        "    'https://nihcc.box.com/shared/static/2c7y53eees3a3vdls5preayjaf0mc3bn.zip']\n",
        "\n",
        "md5_link = 'https://nihcc.box.com/shared/static/q0f8gy79q2spw96hs6o4jjjfsrg17t55.txt'\n",
        "urllib.request.urlretrieve(md5_link, \"MD5_checksums.txt\")  # download the MD5 checksum file\n",
        "\n",
        "for idx, link in enumerate(data_urls):\n",
        "    fn = 'Images_png_%02d.zip' % (idx+1)\n",
        "    full_fn = os.path.join(data_download_dir, fn)\n",
        "    print ('downloading', fn, '...')\n",
        "    urllib.request.urlretrieve(link, full_fn)  # download the zip file\n",
        "print (\"Download complete. Please check the MD5 checksums\")"
      ]
    },
    {
      "cell_type": "code",
      "source": [
        "! ls raw_data\n"
      ],
      "metadata": {
        "colab": {
          "base_uri": "https://localhost:8080/"
        },
        "id": "IkY2ySuPtPAe",
        "outputId": "3abe52b9-17fa-4295-c316-b1d9ff010a61"
      },
      "execution_count": null,
      "outputs": [
        {
          "output_type": "stream",
          "name": "stdout",
          "text": [
            "Images_png_01.zip  Images_png_03.zip  Images_png_05.zip  Images_png_07.zip  Images_png_09.zip\n",
            "Images_png_02.zip  Images_png_04.zip  Images_png_06.zip  Images_png_08.zip  Images_png_10.zip\n"
          ]
        }
      ]
    },
    {
      "cell_type": "markdown",
      "source": [
        "### Uploading the data onto Google Drive\n",
        "The subset of data takes around 15-20+ minutes to download. To save ourselves from waiting that much time everytime we want to use the model, we upload the zip files to Google Drive.\n",
        "\n",
        "Then whenever we need to use this data, we can simply mount Google Drive, unzip the data into the local runtime (takes around 9 minutes), and be on our merry way!"
      ],
      "metadata": {
        "id": "gA5r_uIgRmG_"
      }
    },
    {
      "cell_type": "code",
      "source": [
        "from google.colab import drive\n",
        "drive.mount('/content/gdrive')"
      ],
      "metadata": {
        "colab": {
          "base_uri": "https://localhost:8080/"
        },
        "id": "k_WHCvvYw1sy",
        "outputId": "b84c17fc-f7dc-4da4-d3be-c0c7bfc3a292"
      },
      "execution_count": null,
      "outputs": [
        {
          "output_type": "stream",
          "name": "stdout",
          "text": [
            "Mounted at /content/gdrive\n"
          ]
        }
      ]
    },
    {
      "cell_type": "code",
      "source": [
        "! ls gdrive/MyDrive/CS5330/lesion_data"
      ],
      "metadata": {
        "id": "uQncGzIJxAOb"
      },
      "execution_count": null,
      "outputs": []
    },
    {
      "cell_type": "code",
      "source": [
        "import os\n",
        "import shutil\n",
        "\n",
        "local_data_dir = \"raw_data/\"\n",
        "gdrive_data_dir = \"gdrive/MyDrive/CS5330/lesion_data/images\"\n",
        "\n",
        "for data_zip_name in os.listdir(local_data_dir):\n",
        "  print(\"Copying\", data_zip_name, \"...\")\n",
        "  src_path = local_data_dir + data_zip_name\n",
        "  shutil.copy2(src_path, gdrive_data_dir)"
      ],
      "metadata": {
        "colab": {
          "base_uri": "https://localhost:8080/"
        },
        "id": "2q5oipqbxQT_",
        "outputId": "7b8f441b-c037-4f8b-c4b6-02172ddfc6b7"
      },
      "execution_count": null,
      "outputs": [
        {
          "output_type": "stream",
          "name": "stdout",
          "text": [
            "Copying Images_png_05.zip ...\n",
            "Copying Images_png_07.zip ...\n",
            "Copying Images_png_02.zip ...\n",
            "Copying Images_png_06.zip ...\n",
            "Copying Images_png_10.zip ...\n",
            "Copying Images_png_01.zip ...\n",
            "Copying Images_png_04.zip ...\n",
            "Copying Images_png_08.zip ...\n",
            "Copying Images_png_03.zip ...\n",
            "Copying Images_png_09.zip ...\n"
          ]
        }
      ]
    }
  ]
}